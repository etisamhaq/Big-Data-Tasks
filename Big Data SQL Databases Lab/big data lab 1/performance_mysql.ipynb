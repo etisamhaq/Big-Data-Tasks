{
 "cells": [
  {
   "cell_type": "code",
   "execution_count": 1,
   "metadata": {},
   "outputs": [],
   "source": [
    "import time\n",
    "import pymysql  # For MySQL\n",
    "import pyodbc   # For SQL Server"
   ]
  },
  {
   "cell_type": "code",
   "execution_count": 2,
   "metadata": {},
   "outputs": [],
   "source": [
    "\n",
    "# Connection details for both databases\n",
    "DB_TYPE = 'mysql'  # Change to 'sqlserver' for MSSQL\n",
    "# DB_TYPE = 'sqlserver'\n",
    "HOST = 'DESKTOP-RHT316C'  # Replace with your server name\n",
    "DATABASE = 'facebook'\n",
    "def connect_to_db():\n",
    "    if DB_TYPE == 'mysql':\n",
    "        conn = pymysql.connect(host='localhost', user='root', password='root', database='facebook')\n",
    "    elif DB_TYPE == 'sqlserver':\n",
    "        # Use Trusted_Connection for Windows Authentication in MSSQL\n",
    "        conn = pyodbc.connect('DRIVER={ODBC Driver 17 for SQL Server};'\n",
    "                              f'SERVER={HOST};DATABASE={DATABASE};Trusted_Connection=yes;')\n",
    "    return conn"
   ]
  },
  {
   "cell_type": "code",
   "execution_count": 3,
   "metadata": {},
   "outputs": [],
   "source": [
    "import time\n",
    "import pymysql  # For MySQL\n",
    "import pyodbc   # For SQL Server\n",
    "\n",
    "\n",
    "def execute_query(conn, query):\n",
    "    cursor = conn.cursor()\n",
    "    start_time = time.time()\n",
    "    cursor.execute(query)\n",
    "    conn.commit()\n",
    "    end_time = time.time()\n",
    "    return round(end_time - start_time, 4)  # Time in seconds\n",
    "\n",
    "# Queries for performance testing\n",
    "queries = [\n",
    "    \"SELECT u.id, u.name, COUNT(p.id) AS total_posts FROM users u JOIN posts p ON u.id = p.user_id GROUP BY u.id, u.name HAVING total_posts > 0;\",\n",
    "    \"SELECT p.id, COUNT(l.id) AS total_likes FROM posts p LEFT JOIN likes l ON p.id = l.post_id GROUP BY p.id;\",\n",
    "    \"SELECT p.id, COUNT(l.id) AS total_likes FROM posts p LEFT JOIN likes l ON p.id = l.post_id GROUP BY p.id ORDER BY total_likes DESC LIMIT 10;\",\n",
    "    \"SELECT c.id, c.comment, u.name FROM comments c JOIN users u ON c.user_id = u.id WHERE c.post_id = 100;\",\n",
    "    \"SELECT COUNT(*) FROM users u LEFT JOIN posts p ON u.id = p.user_id WHERE p.id IS NULL;\"\n",
    "]\n"
   ]
  },
  {
   "cell_type": "code",
   "execution_count": 4,
   "metadata": {},
   "outputs": [],
   "source": [
    "def main():\n",
    "    conn = connect_to_db()\n",
    "    total_time = 0\n",
    "    \n",
    "    try:\n",
    "        for query in queries:\n",
    "            exec_time = execute_query(conn, query)\n",
    "            print(f\"Query executed in {exec_time} seconds\")\n",
    "            total_time += exec_time\n",
    "    finally:\n",
    "        conn.close()\n",
    "\n",
    "    avg_time = total_time / len(queries)\n",
    "    print(f\"Average execution time: {avg_time} seconds\")\n"
   ]
  },
  {
   "cell_type": "code",
   "execution_count": 5,
   "metadata": {},
   "outputs": [
    {
     "name": "stdout",
     "output_type": "stream",
     "text": [
      "Query executed in 0.5111 seconds\n",
      "Query executed in 2.4378 seconds\n",
      "Query executed in 2.1375 seconds\n",
      "Query executed in 0.416 seconds\n",
      "Query executed in 0.1055 seconds\n",
      "Average execution time: 1.1215800000000002 seconds\n"
     ]
    }
   ],
   "source": [
    "if __name__ == '__main__':\n",
    "    main()"
   ]
  }
 ],
 "metadata": {
  "kernelspec": {
   "display_name": "Python 3 (ipykernel)",
   "language": "python",
   "name": "python3"
  },
  "language_info": {
   "codemirror_mode": {
    "name": "ipython",
    "version": 3
   },
   "file_extension": ".py",
   "mimetype": "text/x-python",
   "name": "python",
   "nbconvert_exporter": "python",
   "pygments_lexer": "ipython3",
   "version": "3.12.5"
  }
 },
 "nbformat": 4,
 "nbformat_minor": 4
}
